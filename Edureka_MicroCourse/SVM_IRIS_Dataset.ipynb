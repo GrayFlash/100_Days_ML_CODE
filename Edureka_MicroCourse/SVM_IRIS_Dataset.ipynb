{
 "cells": [
  {
   "cell_type": "code",
   "execution_count": 1,
   "metadata": {},
   "outputs": [],
   "source": [
    "%matplotlib inline\n",
    "import sys\n",
    "import numpy as np\n",
    "import pandas as pd\n",
    "import matplotlib.pyplot as plt\n",
    "from sklearn.model_selection import train_test_split\n",
    "\n",
    "from sklearn.svm import SVC\n",
    "from sklearn.metrics import accuracy_score\n"
   ]
  },
  {
   "cell_type": "code",
   "execution_count": 2,
   "metadata": {},
   "outputs": [
    {
     "data": {
      "text/html": [
       "<div>\n",
       "<style scoped>\n",
       "    .dataframe tbody tr th:only-of-type {\n",
       "        vertical-align: middle;\n",
       "    }\n",
       "\n",
       "    .dataframe tbody tr th {\n",
       "        vertical-align: top;\n",
       "    }\n",
       "\n",
       "    .dataframe thead th {\n",
       "        text-align: right;\n",
       "    }\n",
       "</style>\n",
       "<table border=\"1\" class=\"dataframe\">\n",
       "  <thead>\n",
       "    <tr style=\"text-align: right;\">\n",
       "      <th></th>\n",
       "      <th>Id</th>\n",
       "      <th>SepalLengthCm</th>\n",
       "      <th>SepalWidthCm</th>\n",
       "      <th>PetalLengthCm</th>\n",
       "      <th>PetalWidthCm</th>\n",
       "      <th>Species</th>\n",
       "    </tr>\n",
       "  </thead>\n",
       "  <tbody>\n",
       "    <tr>\n",
       "      <th>0</th>\n",
       "      <td>1</td>\n",
       "      <td>5.1</td>\n",
       "      <td>3.5</td>\n",
       "      <td>1.4</td>\n",
       "      <td>0.2</td>\n",
       "      <td>Iris-setosa</td>\n",
       "    </tr>\n",
       "    <tr>\n",
       "      <th>1</th>\n",
       "      <td>2</td>\n",
       "      <td>4.9</td>\n",
       "      <td>3.0</td>\n",
       "      <td>1.4</td>\n",
       "      <td>0.2</td>\n",
       "      <td>Iris-setosa</td>\n",
       "    </tr>\n",
       "    <tr>\n",
       "      <th>2</th>\n",
       "      <td>3</td>\n",
       "      <td>4.7</td>\n",
       "      <td>3.2</td>\n",
       "      <td>1.3</td>\n",
       "      <td>0.2</td>\n",
       "      <td>Iris-setosa</td>\n",
       "    </tr>\n",
       "    <tr>\n",
       "      <th>3</th>\n",
       "      <td>4</td>\n",
       "      <td>4.6</td>\n",
       "      <td>3.1</td>\n",
       "      <td>1.5</td>\n",
       "      <td>0.2</td>\n",
       "      <td>Iris-setosa</td>\n",
       "    </tr>\n",
       "    <tr>\n",
       "      <th>4</th>\n",
       "      <td>5</td>\n",
       "      <td>5.0</td>\n",
       "      <td>3.6</td>\n",
       "      <td>1.4</td>\n",
       "      <td>0.2</td>\n",
       "      <td>Iris-setosa</td>\n",
       "    </tr>\n",
       "  </tbody>\n",
       "</table>\n",
       "</div>"
      ],
      "text/plain": [
       "   Id  SepalLengthCm  SepalWidthCm  PetalLengthCm  PetalWidthCm      Species\n",
       "0   1            5.1           3.5            1.4           0.2  Iris-setosa\n",
       "1   2            4.9           3.0            1.4           0.2  Iris-setosa\n",
       "2   3            4.7           3.2            1.3           0.2  Iris-setosa\n",
       "3   4            4.6           3.1            1.5           0.2  Iris-setosa\n",
       "4   5            5.0           3.6            1.4           0.2  Iris-setosa"
      ]
     },
     "execution_count": 2,
     "metadata": {},
     "output_type": "execute_result"
    }
   ],
   "source": [
    "dataset = pd.read_csv('/home/gray/Desktop/dataset/IRIS.csv')\n",
    "dataset.head()"
   ]
  },
  {
   "cell_type": "code",
   "execution_count": 3,
   "metadata": {},
   "outputs": [
    {
     "name": "stderr",
     "output_type": "stream",
     "text": [
      "/home/gray/anaconda3/lib/python3.7/site-packages/ipykernel_launcher.py:7: SettingWithCopyWarning: \n",
      "A value is trying to be set on a copy of a slice from a DataFrame.\n",
      "Try using .loc[row_indexer,col_indexer] = value instead\n",
      "\n",
      "See the caveats in the documentation: https://pandas.pydata.org/pandas-docs/stable/user_guide/indexing.html#returning-a-view-versus-a-copy\n",
      "  import sys\n"
     ]
    }
   ],
   "source": [
    "rows = list(range(100,150))\n",
    "database = dataset.drop(dataset.index[rows])\n",
    "\n",
    "X = database.iloc[:, [1, 3]]\n",
    "Y = database.iloc[:, [5]]\n",
    "mapping = {'Iris-setosa':1, 'Iris-versicolor':-1}\n",
    "Y['Species'] = Y['Species'].map(mapping)"
   ]
  },
  {
   "cell_type": "code",
   "execution_count": 4,
   "metadata": {},
   "outputs": [],
   "source": [
    "X_train, X_test, Y_train, Y_test = train_test_split(X, Y, test_size=0.25, random_state=5)"
   ]
  },
  {
   "cell_type": "code",
   "execution_count": 5,
   "metadata": {},
   "outputs": [],
   "source": [
    "def training(w1, w2, f1, f2, y, alpha, itr):\n",
    "    i = 1\n",
    "    while(i<itr):\n",
    "        y_c = w1 *f1 + w2*f2\n",
    "        product = y* y_c\n",
    "        count = 0\n",
    "        for j in product:\n",
    "            \n",
    "            if(j>=1):\n",
    "                cost=0\n",
    "                w1 = w1 - alpha * (2/i* w1)\n",
    "                w2 = w2 - alpha * (2/i *w2)\n",
    "            \n",
    "            else:\n",
    "                cost = 1 - j\n",
    "                w1 = w1 + alpha * (f1[count] *y[count] - 2 * 1/(i) * w1)\n",
    "                w2 = w2 + alpha * (f2[count] *y[count] - 2 * 1/(i) * w2)\n",
    "            \n",
    "            count += 1\n",
    "        i+=1\n",
    "            \n",
    "    return w1, w2"
   ]
  },
  {
   "cell_type": "code",
   "execution_count": 7,
   "metadata": {},
   "outputs": [],
   "source": [
    "theta = np.zeros((X_train.shape[0], 2))\n",
    "X_train1 = np.array(X_train)\n",
    "feature1 = (X_train1[:,0]).reshape(X_train.shape[0], 1)\n",
    "feature2 = (X_train1[:,1]).reshape(X_train.shape[0], 1)\n",
    "Y_train1 = np.array(Y_train)\n",
    "w1 = np.zeros((X_train.shape[0],1))\n",
    "w2 = np.zeros((X_train.shape[0],1))\n",
    "\n",
    "w1, w2 = training(w1, w2, feature1, feature2, Y_train1, 0.0001, 10000)"
   ]
  },
  {
   "cell_type": "code",
   "execution_count": 8,
   "metadata": {},
   "outputs": [
    {
     "name": "stdout",
     "output_type": "stream",
     "text": [
      "0.96\n"
     ]
    }
   ],
   "source": [
    "shape1 = X_train.shape[0]\n",
    "shape2 = X_test.shape[0]\n",
    "index = list(range(shape1, shape2))\n",
    "w1_test = w1[:shape2]\n",
    "w2_test = w2[:shape2]\n",
    "\n",
    "w1_test = w1_test.reshape(shape2,1)\n",
    "w2_test = w2_test.reshape(shape2,1)\n",
    "\n",
    "\n",
    "X_test1 = np.array(X_test)\n",
    "feat1 = (X_test1[:,0]).reshape(shape2, 1)\n",
    "feat2 = (X_test1[:,1]).reshape(shape2, 1)\n",
    "\n",
    "y_pred = w1_test*feat1 + w2_test * feat2\n",
    "Y_pred = []\n",
    "for val in y_pred:\n",
    "    if(val > 1):\n",
    "        Y_pred.append(1)\n",
    "    else:\n",
    "        Y_pred.append(-1)\n",
    "\n",
    "print(accuracy_score(Y_test,Y_pred))"
   ]
  },
  {
   "cell_type": "code",
   "execution_count": 9,
   "metadata": {},
   "outputs": [
    {
     "name": "stdout",
     "output_type": "stream",
     "text": [
      "1.0\n"
     ]
    },
    {
     "name": "stderr",
     "output_type": "stream",
     "text": [
      "/home/gray/anaconda3/lib/python3.7/site-packages/sklearn/utils/validation.py:760: DataConversionWarning: A column-vector y was passed when a 1d array was expected. Please change the shape of y to (n_samples, ), for example using ravel().\n",
      "  y = column_or_1d(y, warn=True)\n"
     ]
    }
   ],
   "source": [
    "\n",
    "clf = SVC(kernel='linear')\n",
    "clf.fit(X_train,Y_train)\n",
    "y_pred = clf.predict(X_test)\n",
    "print(accuracy_score(Y_test,y_pred))"
   ]
  }
 ],
 "metadata": {
  "kernelspec": {
   "display_name": "Python 3",
   "language": "python",
   "name": "python3"
  },
  "language_info": {
   "codemirror_mode": {
    "name": "ipython",
    "version": 3
   },
   "file_extension": ".py",
   "mimetype": "text/x-python",
   "name": "python",
   "nbconvert_exporter": "python",
   "pygments_lexer": "ipython3",
   "version": "3.7.6"
  }
 },
 "nbformat": 4,
 "nbformat_minor": 4
}
